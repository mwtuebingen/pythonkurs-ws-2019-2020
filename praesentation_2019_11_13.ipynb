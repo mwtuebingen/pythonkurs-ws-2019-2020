{
 "cells": [
  {
   "cell_type": "code",
   "execution_count": 1,
   "metadata": {
    "slideshow": {
     "slide_type": "skip"
    }
   },
   "outputs": [
    {
     "data": {
      "text/html": [
       "<style>\n",
       "td {\n",
       "    font-size: 20px;\n",
       "}\n",
       "thead th {\n",
       "    font-size: 20px;\n",
       "}\n",
       "</style>\n"
      ],
      "text/plain": [
       "<IPython.core.display.HTML object>"
      ]
     },
     "metadata": {},
     "output_type": "display_data"
    }
   ],
   "source": [
    "%%html\n",
    "<style>\n",
    "td {\n",
    "    font-size: 20px;\n",
    "}\n",
    "thead th {\n",
    "    font-size: 20px;\n",
    "}\n",
    "</style>"
   ]
  },
  {
   "cell_type": "markdown",
   "metadata": {
    "slideshow": {
     "slide_type": "slide"
    }
   },
   "source": [
    "# Einführung in Python"
   ]
  },
  {
   "cell_type": "markdown",
   "metadata": {
    "slideshow": {
     "slide_type": "slide"
    }
   },
   "source": [
    "## Fragen\n",
    "\n",
    "Haben Sie Fragen zur letzten Sitzung?"
   ]
  },
  {
   "cell_type": "markdown",
   "metadata": {
    "slideshow": {
     "slide_type": "slide"
    }
   },
   "source": [
    "## Exkurs: Kontrollstrukturen\n",
    "\n",
    "Bevor wir mit der nächsten Datenstruktur weitermachen, sollten wir über **Kontrollstrukturen** (*control structures*) sprechen.\n",
    "\n",
    "Kontrollstrukturen bestimmen den Ablauf eines Programms. **Fallunterscheidungen** (*conditional statements*) führen abhängig davon, ob eine bestimmte Bedingung erfüllt ist oder nicht, unterschiedlichen Code aus. **Schleifen** (*loops*) führen den gleichen Code immer wieder aus.\n",
    "\n",
    "Schleifen und Fallunterscheidungen können auch miteinander kombiniert werden. "
   ]
  },
  {
   "cell_type": "markdown",
   "metadata": {
    "slideshow": {
     "slide_type": "slide"
    }
   },
   "source": [
    "## Kontrollstrukturen: Fallunterscheidung mit *if*\n",
    "\n",
    "**if** testet, ob eine einzelne Bedingung erfüllt ist. Wenn ja, wird der unter **if** eingerückte Code ausgeführt. Wenn die Bedingung nicht erfüllt ist, geht Python zur nächsten nicht eingerückten Zeile weiter:"
   ]
  },
  {
   "cell_type": "code",
   "execution_count": 27,
   "metadata": {
    "slideshow": {
     "slide_type": "fragment"
    }
   },
   "outputs": [],
   "source": [
    "a = 2\n",
    "if a == 1:\n",
    "    print(\"a hat den Wert 1\")"
   ]
  },
  {
   "cell_type": "markdown",
   "metadata": {
    "slideshow": {
     "slide_type": "fragment"
    }
   },
   "source": [
    "Nur wenn a den Wert 1 hat, wird der Befehl ```print(\"a hat den Wert 1\")``` auch ausgeführt."
   ]
  },
  {
   "cell_type": "markdown",
   "metadata": {
    "slideshow": {
     "slide_type": "slide"
    }
   },
   "source": [
    "## Exkurs im Exkurs: Vergleichs- und logische Operatoren\n",
    "\n",
    "Sie haben eben schon einen von Pythons Vergleichsoperatoren gesehen, das doppelte Gleichheitszeichen (==). Damit können Sie testen, ob die Werte auf beiden Seiten identisch sind. Hier ist eine Liste mit allen Vergleichsoperatoren:\n",
    "\n",
    "|Operator|Beispiel|Erklärung|\n",
    "|:-|:-|:-|\n",
    "|==|1 == 2|Ist 1 gleich 2?|\n",
    "|!=|1 != 2|Ist 1 ungleich 2?|\n",
    "|<|1 < 2|Ist 1 kleiner als 2?|\n",
    "|>|1 > 2|Ist 1 größer als 2?|\n",
    "|<=|1 <= 2|Ist 1 kleiner oder gleich 2?|\n",
    "|>=|1 >= 2|Ist 1 größer oder gleich 2?|"
   ]
  },
  {
   "cell_type": "markdown",
   "metadata": {
    "slideshow": {
     "slide_type": "slide"
    }
   },
   "source": [
    "## Exkurs im Exkurs: Vergleichs- und logische Operatoren\n",
    "\n",
    "Zwei logischen Operatoren können mehrere Vergleiche kombinieren:\n",
    "\n",
    "|Operator|Beispiel|Erklärung||\n",
    "|:-|:-|:-|:-|\n",
    "|and|(1 < 2) **and** (3 < 4) |Ist 1 kleiner als 2 **und** gleichzeitig 3 kleiner als 4?|Beide müssen wahr sein.|\n",
    "|or|(1 < 2) **or** (3 < 4)|Ist 1 kleiner als 2 **oder** 3 kleiner als 4?|Nur einer muss wahr sein.|\n",
    "\n",
    "Mit **not** können Sie einen Vergleich umkehren: ```not (1 < 2)``` ist das gleiche wie ```1 >= 2```"
   ]
  },
  {
   "cell_type": "markdown",
   "metadata": {
    "slideshow": {
     "slide_type": "slide"
    }
   },
   "source": [
    "## Zurück zu Kontrollstrukturen und Fallentscheidungen\n",
    "\n",
    "Jetzt wissen wir, wie wir mit Vergleichs- und logischen Operatoren mehrere Bedingungen in einer if-Anweisung testen können:"
   ]
  },
  {
   "cell_type": "code",
   "execution_count": 28,
   "metadata": {
    "slideshow": {
     "slide_type": "fragment"
    }
   },
   "outputs": [
    {
     "name": "stdout",
     "output_type": "stream",
     "text": [
      "a ist größer als 6 und kleiner als 10\n"
     ]
    }
   ],
   "source": [
    "a = 7\n",
    "\n",
    "if a > 6 and a < 10:\n",
    "    print(\"a ist größer als 6 und kleiner als 10\")"
   ]
  },
  {
   "cell_type": "markdown",
   "metadata": {
    "slideshow": {
     "slide_type": "fragment"
    }
   },
   "source": [
    "Welche(n) Wert(e) können Sie a geben, damit der Text angezeigt wird?"
   ]
  },
  {
   "cell_type": "markdown",
   "metadata": {
    "slideshow": {
     "slide_type": "slide"
    }
   },
   "source": [
    "## Kontrollstrukturen: Fallunterscheidung mit *if/elif*\n",
    "\n",
    "Oft will man aber nicht nur eine Bedingung testen. Wenn Sie eine zweite Bedingung hinzufügen möchten, dann können Sie das mit **elif** tun:"
   ]
  },
  {
   "cell_type": "code",
   "execution_count": 29,
   "metadata": {
    "slideshow": {
     "slide_type": "fragment"
    }
   },
   "outputs": [
    {
     "name": "stdout",
     "output_type": "stream",
     "text": [
      "a ist größer als 4 und kleiner als oder gleich 6\n"
     ]
    }
   ],
   "source": [
    "a = 5\n",
    "if a > 6 and a < 10:\n",
    "    print(\"a ist größer als 6 und kleiner als 10\")\n",
    "elif a > 4 and a <= 6:\n",
    "    print(\"a ist größer als 4 und kleiner als oder gleich 6\")"
   ]
  },
  {
   "cell_type": "markdown",
   "metadata": {
    "slideshow": {
     "slide_type": "slide"
    }
   },
   "source": [
    "## Kontrollstrukturen: Fallunterscheidung mit *if/elif*\n",
    "\n",
    "Sie können beliebig viele Bedingungen mit **elif** anfügen, solange Sie am Anfang eine einzelne **if**-Bedingung stehen haben:"
   ]
  },
  {
   "cell_type": "code",
   "execution_count": 5,
   "metadata": {
    "slideshow": {
     "slide_type": "fragment"
    }
   },
   "outputs": [
    {
     "name": "stdout",
     "output_type": "stream",
     "text": [
      "a ist größer als 0 und kleiner als oder gleich 2\n"
     ]
    }
   ],
   "source": [
    "a = 1\n",
    "if a > 6 and a < 10:\n",
    "    print(\"a ist größer als 6 und kleiner als 10\")\n",
    "elif a > 4 and a <= 6:\n",
    "    print(\"a ist größer als 4 und kleiner als oder gleich 6\")\n",
    "elif a > 2 and a <= 4:\n",
    "    print(\"a ist größer als 2 und kleiner als oder gleich 4\")\n",
    "elif a > 0 and a <= 2:\n",
    "    print(\"a ist größer als 0 und kleiner als oder gleich 2\")"
   ]
  },
  {
   "cell_type": "markdown",
   "metadata": {
    "slideshow": {
     "slide_type": "slide"
    }
   },
   "source": [
    "## Kontrollstrukturen: Fallunterscheidung mit *if/elif/else*\n",
    "\n",
    "Schließlich können Sie am Schluß noch mit **else** alle anderen Fälle abfangen:"
   ]
  },
  {
   "cell_type": "code",
   "execution_count": 31,
   "metadata": {
    "slideshow": {
     "slide_type": "fragment"
    }
   },
   "outputs": [
    {
     "ename": "TypeError",
     "evalue": "'>' not supported between instances of 'str' and 'int'",
     "output_type": "error",
     "traceback": [
      "\u001b[1;31m---------------------------------------------------------------------------\u001b[0m",
      "\u001b[1;31mTypeError\u001b[0m                                 Traceback (most recent call last)",
      "\u001b[1;32m<ipython-input-31-86f8b407a51f>\u001b[0m in \u001b[0;36m<module>\u001b[1;34m\u001b[0m\n\u001b[0;32m      1\u001b[0m \u001b[0ma\u001b[0m \u001b[1;33m=\u001b[0m \u001b[1;34m\"abc\"\u001b[0m\u001b[1;33m\u001b[0m\u001b[1;33m\u001b[0m\u001b[0m\n\u001b[1;32m----> 2\u001b[1;33m \u001b[1;32mif\u001b[0m \u001b[0ma\u001b[0m \u001b[1;33m>\u001b[0m \u001b[1;36m6\u001b[0m \u001b[1;32mand\u001b[0m \u001b[0ma\u001b[0m \u001b[1;33m<=\u001b[0m \u001b[1;36m10\u001b[0m\u001b[1;33m:\u001b[0m\u001b[1;33m\u001b[0m\u001b[1;33m\u001b[0m\u001b[0m\n\u001b[0m\u001b[0;32m      3\u001b[0m     \u001b[0mprint\u001b[0m\u001b[1;33m(\u001b[0m\u001b[1;34m\"a ist größer als 6 und kleiner als oder gleich 10\"\u001b[0m\u001b[1;33m)\u001b[0m\u001b[1;33m\u001b[0m\u001b[1;33m\u001b[0m\u001b[0m\n\u001b[0;32m      4\u001b[0m \u001b[1;32melif\u001b[0m \u001b[0ma\u001b[0m \u001b[1;33m>\u001b[0m \u001b[1;36m4\u001b[0m \u001b[1;32mand\u001b[0m \u001b[0ma\u001b[0m \u001b[1;33m<=\u001b[0m \u001b[1;36m6\u001b[0m\u001b[1;33m:\u001b[0m\u001b[1;33m\u001b[0m\u001b[1;33m\u001b[0m\u001b[0m\n\u001b[0;32m      5\u001b[0m     \u001b[0mprint\u001b[0m\u001b[1;33m(\u001b[0m\u001b[1;34m\"a ist größer als 4 und kleiner als oder gleich 6\"\u001b[0m\u001b[1;33m)\u001b[0m\u001b[1;33m\u001b[0m\u001b[1;33m\u001b[0m\u001b[0m\n",
      "\u001b[1;31mTypeError\u001b[0m: '>' not supported between instances of 'str' and 'int'"
     ]
    }
   ],
   "source": [
    "a = 11\n",
    "if a > 6 and a <= 10:\n",
    "    print(\"a ist größer als 6 und kleiner als oder gleich 10\")\n",
    "elif a > 4 and a <= 6:\n",
    "    print(\"a ist größer als 4 und kleiner als oder gleich 6\")\n",
    "elif a > 2 and a <= 4:\n",
    "    print(\"a ist größer als 2 und kleiner als oder gleich 4\")\n",
    "elif a >= 0 and a <= 2:\n",
    "    print(\"a ist größer als oder gleich 0 und kleiner als oder gleich 2\")\n",
    "else:\n",
    "    print(\"Ihre Zahl liegt nicht zwischen 0 und 10\")"
   ]
  },
  {
   "cell_type": "markdown",
   "metadata": {
    "slideshow": {
     "slide_type": "slide"
    }
   },
   "source": [
    "## Kontrollstrukturen: Fallunterscheidung mit if/elif/else\n",
    "\n",
    "Ändern Sie jetzt einmal den Wert von \"a\" zu einer Zeichenkette (bspw. \"abc\"). Was geschieht?"
   ]
  },
  {
   "cell_type": "markdown",
   "metadata": {
    "slideshow": {
     "slide_type": "slide"
    }
   },
   "source": [
    "## Kontrollstrukturen: Fallunterscheidung mit if/elif/else\n",
    "\n",
    "Sie bekommen eine Fehlermeldung, da Sie den Vergleichsoperator **\\>** mit einer Zeichenkette verwenden, obwohl er nur für den Vergleich von ausgelegt ist. Hier macht es Sinn, dass man zuerst testet, ob der gewählte Wert eine Zahl ist. Wie Sie im folgenden Beispiel sehen können, kann man **if/elif/else** ineinander verschachteln (*nesting*). Wichtig dabei ist, dass für jede Einrückungsstufe die gleiche Anzahl von Leerzeichen verwendet wird (normalerweise 4), was aber normalerweise Ihr Editor für Sie übernimmt."
   ]
  },
  {
   "cell_type": "code",
   "execution_count": 33,
   "metadata": {
    "slideshow": {
     "slide_type": "slide"
    }
   },
   "outputs": [
    {
     "name": "stdout",
     "output_type": "stream",
     "text": [
      "Ihre Zahl ist größer als 2 und kleiner als oder gleich 4\n"
     ]
    }
   ],
   "source": [
    "a = 4\n",
    "if isinstance(a, (int, float)) == True:\n",
    "    if a > 6 and a <= 10:\n",
    "        print(\"Ihre Zahl ist größer als 6 und kleiner als oder gleich 10\")\n",
    "    elif a > 4 and a <= 6:\n",
    "        print(\"Ihre Zahl ist größer als 4 und kleiner als oder gleich 6\")\n",
    "    elif a > 2 and a <= 4:\n",
    "        print(\"Ihre Zahl ist größer als 2 und kleiner als oder gleich 4\")\n",
    "    elif a >= 0 and a <= 2:\n",
    "        print(\"Ihre Zahl ist größer als oder gleich 0 und kleiner als oder gleich 2\")\n",
    "    else:\n",
    "        print(\"Ihre Zahl liegt nicht zwischen 0 und 10\")\n",
    "else:\n",
    "    print(\"Bitte wählen Sie eine Zahl als Wert\")"
   ]
  },
  {
   "cell_type": "markdown",
   "metadata": {
    "slideshow": {
     "slide_type": "slide"
    }
   },
   "source": [
    "## Fallunterscheidungen mit Bedingten Ausdrücken\n",
    "\n",
    "Mit einem bedingten Ausdruck (*conditional expression*) können Sie eine **if/else**-Konstruktion (mit einer Bedingung) ersetzen. Die beiden Beispiele geben Ihnen das gleiche Ergebnis:"
   ]
  },
  {
   "cell_type": "code",
   "execution_count": 8,
   "metadata": {
    "slideshow": {
     "slide_type": "fragment"
    }
   },
   "outputs": [
    {
     "name": "stdout",
     "output_type": "stream",
     "text": [
      "Zahl ist ungerade\n"
     ]
    }
   ],
   "source": [
    "a = 1\n",
    "if a % 2 == 0:\n",
    "    print(\"Zahl ist gerade\")\n",
    "else:\n",
    "    print(\"Zahl ist ungerade\")"
   ]
  },
  {
   "cell_type": "code",
   "execution_count": 34,
   "metadata": {
    "slideshow": {
     "slide_type": "slide"
    }
   },
   "outputs": [
    {
     "name": "stdout",
     "output_type": "stream",
     "text": [
      "Zahl ist gerade\n"
     ]
    }
   ],
   "source": [
    "a = 4\n",
    "print(\"Zahl ist gerade\" if a % 2 == 0 else \"Zahl ist ungerade\")"
   ]
  },
  {
   "cell_type": "markdown",
   "metadata": {
    "slideshow": {
     "slide_type": "slide"
    }
   },
   "source": [
    "## Kontrollstrukturen: Schleifen\n",
    "\n",
    "Mit Schleifen können Sie den selben Codeblock mehrmals ausführen lassen. Python bietet Ihnen zwei Wege, um Schleifen zu erzeugen: mit **while** und **for**. \n",
    "\n",
    "Wenn Sie mit **while** arbeiten, legen Sie eine Bedingung fest; solange die Bedingung erfüllt ist, läuft die Schleife weiter. Erst wenn die Bedingung nicht mehr erfüllt ist, wird die Schleife beendet:"
   ]
  },
  {
   "cell_type": "code",
   "execution_count": 10,
   "metadata": {
    "slideshow": {
     "slide_type": "fragment"
    }
   },
   "outputs": [
    {
     "name": "stdout",
     "output_type": "stream",
     "text": [
      "1\n",
      "2\n",
      "3\n",
      "4\n",
      "5\n",
      "6\n"
     ]
    }
   ],
   "source": [
    "a = 1\n",
    "while a < 7:\n",
    "    print(a)\n",
    "    a = a + 1 # Ohne diese Zeile läuft die Schleife endlos weiter da a immer kleiner als 5 bleibt"
   ]
  },
  {
   "cell_type": "markdown",
   "metadata": {
    "slideshow": {
     "slide_type": "slide"
    }
   },
   "source": [
    "## Kontrollstrukturen: Schleifen mit *while*\n",
    "\n",
    "Sie können Schleifen mit **break** auch vorzeitig beenden:"
   ]
  },
  {
   "cell_type": "code",
   "execution_count": 11,
   "metadata": {
    "slideshow": {
     "slide_type": "fragment"
    }
   },
   "outputs": [
    {
     "name": "stdout",
     "output_type": "stream",
     "text": [
      "1\n",
      "2\n",
      "3\n",
      "4\n"
     ]
    }
   ],
   "source": [
    "a = 1\n",
    "while a < 7:\n",
    "    print(a)\n",
    "    if a == 4:\n",
    "        break\n",
    "    a = a + 1"
   ]
  },
  {
   "cell_type": "markdown",
   "metadata": {
    "slideshow": {
     "slide_type": "slide"
    }
   },
   "source": [
    "## Kontrollstrukturen: Schleifen mit *for*\n",
    "\n",
    "Wenn Sie eine Schleife mit **for** bilden wollen, benötigen Sie ein iterierbares (*iterable*) Objekt, wie etwa eine Liste oder ein Tuple. Für jedes Element in diesem Objekt läuft die Schleife einmal. Wenn die Schleife für jedes Element durchgelaufen ist, endet sie."
   ]
  },
  {
   "cell_type": "code",
   "execution_count": 12,
   "metadata": {
    "slideshow": {
     "slide_type": "fragment"
    }
   },
   "outputs": [
    {
     "name": "stdout",
     "output_type": "stream",
     "text": [
      "banane\n",
      "kirsche\n",
      "apfel\n",
      "ananas\n"
     ]
    }
   ],
   "source": [
    "a = [\"banane\", \"kirsche\", \"apfel\", \"ananas\"]\n",
    "for x in a:\n",
    "    print(x)"
   ]
  },
  {
   "cell_type": "markdown",
   "metadata": {
    "slideshow": {
     "slide_type": "slide"
    }
   },
   "source": [
    "## Kontrollstrukturen: Schleifen mit *for*\n",
    "\n",
    "Sie können genauso gut mit Zahlensequenzen arbeiten. Hier ein Beispiel einer mit **range()** erzeugten Sequenz aller geraden Zahlen von 20 bis 2:"
   ]
  },
  {
   "cell_type": "code",
   "execution_count": 13,
   "metadata": {
    "slideshow": {
     "slide_type": "fragment"
    }
   },
   "outputs": [
    {
     "name": "stdout",
     "output_type": "stream",
     "text": [
      "20\n",
      "18\n",
      "16\n",
      "14\n",
      "12\n",
      "10\n",
      "8\n",
      "6\n",
      "4\n",
      "2\n"
     ]
    }
   ],
   "source": [
    "a = range(20, 1, -2)\n",
    "for x in a:\n",
    "    print(x)"
   ]
  },
  {
   "cell_type": "markdown",
   "metadata": {
    "slideshow": {
     "slide_type": "slide"
    }
   },
   "source": [
    "## Kontrollstrukturen: Schleifen mit *for*\n",
    "\n",
    "Wie bei **while**-Schleifen können Sie auch bei **for** Bedingungen einbauen:"
   ]
  },
  {
   "cell_type": "code",
   "execution_count": 14,
   "metadata": {
    "slideshow": {
     "slide_type": "fragment"
    }
   },
   "outputs": [
    {
     "name": "stdout",
     "output_type": "stream",
     "text": [
      "banane\n",
      "kirsche\n",
      "APFEL\n",
      "ananas\n"
     ]
    }
   ],
   "source": [
    "a = [\"banane\", \"kirsche\", \"apfel\", \"ananas\"]\n",
    "for x in a:\n",
    "    if x == \"apfel\":\n",
    "        print(x.upper())\n",
    "    else:\n",
    "        print(x)"
   ]
  },
  {
   "cell_type": "markdown",
   "metadata": {
    "slideshow": {
     "slide_type": "slide"
    }
   },
   "source": [
    "## Kontrollstrukturen: *pass*\n",
    "\n",
    "Wenn Sie an einem Programm arbeiten, gibt es möglicherweise Stellen, an denen Sie vorerst nur einen Platzhalter benötigen. Dafür können sie **pass** verwenden. Die Fallunterscheidung oder Schleife wird dann einfach ignoriert: "
   ]
  },
  {
   "cell_type": "code",
   "execution_count": 15,
   "metadata": {
    "slideshow": {
     "slide_type": "fragment"
    }
   },
   "outputs": [
    {
     "name": "stdout",
     "output_type": "stream",
     "text": [
      "kirsche\n",
      "APFEL\n",
      "ananas\n"
     ]
    }
   ],
   "source": [
    "a = [\"banane\", \"kirsche\", \"apfel\", \"ananas\"]\n",
    "for x in a:\n",
    "    if x == \"apfel\":\n",
    "        print(x.upper())\n",
    "    elif x == \"banane\":\n",
    "        pass\n",
    "    else:\n",
    "        print(x)"
   ]
  },
  {
   "cell_type": "markdown",
   "metadata": {
    "slideshow": {
     "slide_type": "slide"
    }
   },
   "source": [
    "## Zurück zu Datenstrukturen: Dictionary\n",
    "\n",
    "Ein Dictionary ist eine Datenstruktur, in der Schlüssel-Wert-Paare (*key: value pairs*) gespeichert werden. In anderen Sprachen werden solche Konstrukte auch *hashes*, *maps*, *hash tables*, *tables*, *associative arrays*, *collections* usw. genannt.\n",
    "\n",
    "Dabei muss jeder Schlüssel einmalig sein, die Werte können sich aber wiederholen. Auch muss der Schlüssel durch einen immutablen Datentypen ausgedrückt werden, z.B. durch eine Zeichenkette, Integer, usw. Dictionaries werden in geschweifte Klammern gesetzt. Sie können das Dictionary in eine Zeile schreiben oder für jeden Eintrag eine neue Zeile beginnen, was bei längeren oder verschachtelten Dictionaries übersichtlicher ist."
   ]
  },
  {
   "cell_type": "code",
   "execution_count": 16,
   "metadata": {
    "slideshow": {
     "slide_type": "slide"
    }
   },
   "outputs": [
    {
     "data": {
      "text/plain": [
       "{'Klaus': 31, 'Stefanie': 64, 'Beate': 11, 'Martin': 71}"
      ]
     },
     "execution_count": 16,
     "metadata": {},
     "output_type": "execute_result"
    }
   ],
   "source": [
    "a = {\n",
    "    \"Klaus\": 31,\n",
    "    \"Stefanie\": 64,\n",
    "    \"Beate\": 11,\n",
    "    \"Martin\": 71\n",
    "}\n",
    "a"
   ]
  },
  {
   "cell_type": "markdown",
   "metadata": {
    "slideshow": {
     "slide_type": "slide"
    }
   },
   "source": [
    "## Dictionaries\n",
    "\n",
    "Ein Dictionary kann auch selbst wieder Dictionaries beinhalten. Wenn Sie bspw. für jede Person nicht nur das Alter, sondern auch den Wohnort speichern möchten, können Sie für jede Person ein Dictionary erzeugen, dort Alter und Wohnort speichern und das individuelle Dictionary als Wert mit dem Namen der Person als Schlüssel in einem übergeordneten Dictionary verwenden, wie im folgenden Beispiel:"
   ]
  },
  {
   "cell_type": "code",
   "execution_count": 17,
   "metadata": {
    "slideshow": {
     "slide_type": "slide"
    }
   },
   "outputs": [
    {
     "data": {
      "text/plain": [
       "{'Klaus': {'alter': 31, 'wohnort': 'Tübingen'},\n",
       " 'Stefanie': {'alter': 64, 'wohnort': 'Rottenburg'},\n",
       " 'Beate': {'alter': 11, 'wohnort': 'Reutlingen'}}"
      ]
     },
     "execution_count": 17,
     "metadata": {},
     "output_type": "execute_result"
    }
   ],
   "source": [
    "b = {\n",
    "    \"Klaus\": {\n",
    "        \"alter\": 31,\n",
    "        \"wohnort\": \"Tübingen\"\n",
    "    },\n",
    "    \"Stefanie\": {\n",
    "        \"alter\": 64,\n",
    "        \"wohnort\": \"Rottenburg\"\n",
    "    },\n",
    "    \"Beate\": {\n",
    "        \"alter\": 11,\n",
    "        \"wohnort\": \"Reutlingen\"\n",
    "    }\n",
    "}\n",
    "b"
   ]
  },
  {
   "cell_type": "markdown",
   "metadata": {
    "slideshow": {
     "slide_type": "slide"
    }
   },
   "source": [
    "## Dictionaries: Elemente auswählen\n",
    "\n",
    "Anders als etwa bei Listen oder Tuples verwenden Sie bei Dictionaries keine Indexwerte, sondern die Schlüssel, um auf einzelne Elemente zuzugreifen:"
   ]
  },
  {
   "cell_type": "code",
   "execution_count": 18,
   "metadata": {
    "slideshow": {
     "slide_type": "fragment"
    }
   },
   "outputs": [
    {
     "data": {
      "text/plain": [
       "{'alter': 64, 'wohnort': 'Rottenburg'}"
      ]
     },
     "execution_count": 18,
     "metadata": {},
     "output_type": "execute_result"
    }
   ],
   "source": [
    "b[\"Stefanie\"]"
   ]
  },
  {
   "cell_type": "code",
   "execution_count": 19,
   "metadata": {
    "slideshow": {
     "slide_type": "fragment"
    }
   },
   "outputs": [
    {
     "data": {
      "text/plain": [
       "'Rottenburg'"
      ]
     },
     "execution_count": 19,
     "metadata": {},
     "output_type": "execute_result"
    }
   ],
   "source": [
    "b[\"Stefanie\"][\"wohnort\"]"
   ]
  },
  {
   "cell_type": "markdown",
   "metadata": {
    "slideshow": {
     "slide_type": "slide"
    }
   },
   "source": [
    "## Dictionaries: Schleifen\n",
    "\n",
    "Da Dictionaries iterabel sind, können sie auch in Schleifen (normalerweise **for**-Schleifen) eingesetzt werden. Das folgende Beispiel verwendet das einfachere Dictionary, das Sie zu Beginn gesehen haben und gibt für jedes Element den Schlüssel aus:"
   ]
  },
  {
   "cell_type": "code",
   "execution_count": 20,
   "metadata": {
    "slideshow": {
     "slide_type": "fragment"
    }
   },
   "outputs": [
    {
     "name": "stdout",
     "output_type": "stream",
     "text": [
      "Klaus\n",
      "Stefanie\n",
      "Beate\n",
      "Martin\n"
     ]
    }
   ],
   "source": [
    "for x in a:\n",
    "    print(x)"
   ]
  },
  {
   "cell_type": "markdown",
   "metadata": {
    "slideshow": {
     "slide_type": "slide"
    }
   },
   "source": [
    "## Dictionaries: Schleifen\n",
    "\n",
    "Sie können sich auch den Wert des Elements, oder Wert und Schlüssel gleichzeitig ausgeben lassen:"
   ]
  },
  {
   "cell_type": "code",
   "execution_count": 21,
   "metadata": {
    "slideshow": {
     "slide_type": "fragment"
    }
   },
   "outputs": [
    {
     "name": "stdout",
     "output_type": "stream",
     "text": [
      "31\n",
      "64\n",
      "11\n",
      "71\n"
     ]
    }
   ],
   "source": [
    "for x in a:\n",
    "    print(a[x])"
   ]
  },
  {
   "cell_type": "code",
   "execution_count": 22,
   "metadata": {
    "slideshow": {
     "slide_type": "fragment"
    }
   },
   "outputs": [
    {
     "name": "stdout",
     "output_type": "stream",
     "text": [
      "Klaus ist 31 Jahre alt.\n",
      "Stefanie ist 64 Jahre alt.\n",
      "Beate ist 11 Jahre alt.\n",
      "Martin ist 71 Jahre alt.\n"
     ]
    }
   ],
   "source": [
    "for x in a:\n",
    "    print(\"{} ist {} Jahre alt.\".format(x, a[x]))"
   ]
  },
  {
   "cell_type": "markdown",
   "metadata": {
    "slideshow": {
     "slide_type": "slide"
    }
   },
   "source": [
    "## Dictionary: Funktionen\n",
    "\n",
    "Es gibt verschiedene Funktionen, welche die Arbeit mit Dictionaries erleichtern. Im folgenden Beispiel wird **items()** verwendet; Sie können hiermit den sowohl Schlüsseln als auch Werten Variablennamen zuweisen:"
   ]
  },
  {
   "cell_type": "code",
   "execution_count": 23,
   "metadata": {
    "slideshow": {
     "slide_type": "fragment"
    }
   },
   "outputs": [
    {
     "name": "stdout",
     "output_type": "stream",
     "text": [
      "Klaus ist 31 Jahre alt.\n",
      "Stefanie ist 64 Jahre alt.\n",
      "Beate ist 11 Jahre alt.\n",
      "Martin ist 71 Jahre alt.\n"
     ]
    }
   ],
   "source": [
    "for key, value in a.items():\n",
    "    print(\"{} ist {} Jahre alt.\".format(key, value))"
   ]
  },
  {
   "cell_type": "markdown",
   "metadata": {
    "slideshow": {
     "slide_type": "slide"
    }
   },
   "source": [
    "## Dictionary: Verschachtelt in Schleifen\n",
    "\n",
    "Um mit verschachtelten Dictionaries zu arbeiten, können Sie verschachtelte Schleifen verwenden:"
   ]
  },
  {
   "cell_type": "code",
   "execution_count": 24,
   "metadata": {
    "slideshow": {
     "slide_type": "fragment"
    }
   },
   "outputs": [
    {
     "name": "stdout",
     "output_type": "stream",
     "text": [
      "Klaus\n",
      "31\n",
      "Tübingen\n",
      "Stefanie\n",
      "64\n",
      "Rottenburg\n",
      "Beate\n",
      "11\n",
      "Reutlingen\n"
     ]
    }
   ],
   "source": [
    "for k, v in b.items():\n",
    "    print(k)\n",
    "    for x, y in v.items():\n",
    "        print(y)"
   ]
  },
  {
   "cell_type": "markdown",
   "metadata": {
    "slideshow": {
     "slide_type": "slide"
    }
   },
   "source": [
    "## Dictionary\n",
    "\n",
    "Im obigen Beispiel können Sie auch in der ersten Schleife über die Namen der Schlüssel auf individuelle Werte zugreifen:"
   ]
  },
  {
   "cell_type": "code",
   "execution_count": 25,
   "metadata": {
    "slideshow": {
     "slide_type": "fragment"
    }
   },
   "outputs": [
    {
     "name": "stdout",
     "output_type": "stream",
     "text": [
      "Klaus wohnt in Tübingen und ist 31 Jahre alt.\n",
      "Stefanie wohnt in Rottenburg und ist 64 Jahre alt.\n",
      "Beate wohnt in Reutlingen und ist 11 Jahre alt.\n"
     ]
    }
   ],
   "source": [
    "for k, v in b.items():\n",
    "    print(\"{} wohnt in {} und ist {} Jahre alt.\".format(k, v[\"wohnort\"], v[\"alter\"]))"
   ]
  },
  {
   "cell_type": "markdown",
   "metadata": {
    "slideshow": {
     "slide_type": "slide"
    }
   },
   "source": [
    "## Dictionary: Bitte beachten\n",
    "\n",
    "Einen Punkt, den Sie bei Dictionaries beachten sollten, ist dass sie ungeordnet sind, d.h. Sie können sich nicht darauf verlassen, dass die Elemente immer in der gleichen Reihenfolge erscheinen. Wenn die Reihenfolge für Sie wichtig ist, können Sie ein geordnetes Dictionary (*OrderedDict*) verwenden:"
   ]
  },
  {
   "cell_type": "code",
   "execution_count": 26,
   "metadata": {
    "slideshow": {
     "slide_type": "fragment"
    }
   },
   "outputs": [
    {
     "name": "stdout",
     "output_type": "stream",
     "text": [
      "a: A\n",
      "b: B\n",
      "c: C\n"
     ]
    }
   ],
   "source": [
    "import collections # Dazu gleich mehr!\n",
    "\n",
    "c = collections.OrderedDict() # Dazu gleich mehr!\n",
    "c[\"a\"] = \"A\"\n",
    "c[\"b\"] = \"B\"\n",
    "c[\"c\"] = \"C\"\n",
    "\n",
    "for k, v in c.items():\n",
    "    print(\"{}: {}\".format(k, v))"
   ]
  },
  {
   "cell_type": "markdown",
   "metadata": {
    "slideshow": {
     "slide_type": "slide"
    }
   },
   "source": [
    "## Exkurs: Module und Pakete importieren\n",
    "\n",
    "Am Beginn des vorherigen Beispiels haben Sie die folgende Zeile gesehen:\n",
    "\n",
    "```import collections```\n",
    "\n",
    "Mit dieser Zeile haben Sie das Modul *collections* in Ihr Programm eingebunden. Module sind einzelne .py-Dateien, die zusätzliche oder modifizierte Funktionen anbieten. Manche kommen mit der Standardinstallation, andere müssen Sie zusätzlich installieren. Pakete enthalten zumeist mehrere Module. Bevor Sie ein Modul oder Paket in Ihrem Programm verwenden, müssen Sie es erst einbinden. Das machen Sie mit **import**."
   ]
  },
  {
   "cell_type": "markdown",
   "metadata": {
    "slideshow": {
     "slide_type": "slide"
    }
   },
   "source": [
    "## Module und Pakete importieren\n",
    "\n",
    "Wenn Sie Module/Pakete auf diese Weise importieren, wird ein sog. Namensraum (*namespace*) geschaffen \\[falls Sie schon einmal mit XML gearbeitet haben, kennen Sie das Konzept vielleicht schon\\]. Das verhindert, dass eine Funktion aus dem importierten Modul oder Paket, welche den gleichen Namen wie eine bereits existierende Funktion hat, diese überschreibt. Deshalb müssen Sie dann vor den Namen der importierten Funktion noch den Namen des Moduls/Pakets setzen:\n",
    "\n",
    "```c = collections.OrderedDict()```"
   ]
  },
  {
   "cell_type": "markdown",
   "metadata": {
    "slideshow": {
     "slide_type": "slide"
    }
   },
   "source": [
    "## Module und Pakete importieren\n",
    "\n",
    "Wenn Sie möchten, können Sie auch den Namen ändern, unter dem Sie in Ihrem Programm auf das Modul/Paket verweisen:\n",
    "\n",
    "```\n",
    "import collections as neuerName\n",
    "c = neuerName.OrderedDict()\n",
    "``` "
   ]
  },
  {
   "cell_type": "markdown",
   "metadata": {
    "slideshow": {
     "slide_type": "slide"
    }
   },
   "source": [
    "## Module und Pakete importieren\n",
    "\n",
    "Es gibt in Python auch einen globalen Namensraum (*global namespace*). Den verwenden die Funktionen, die Sie bisher verwendet haben. Sie können Module/Pakete auch teilweise oder komplett in diesen globalen Namensraum einbinden:\n",
    "\n",
    "```\n",
    "from collections import *\n",
    "```\n",
    "\n",
    "```\n",
    "from collections import OrderedDict\n",
    "```\n",
    "\n",
    "```\n",
    "from collections import OrderedDict as sortiert\n",
    "```"
   ]
  },
  {
   "cell_type": "markdown",
   "metadata": {
    "slideshow": {
     "slide_type": "slide"
    }
   },
   "source": [
    "## Module und Pakete importieren\n",
    "\n",
    "Sie müssen zwar bei dieser Methode den Namen des Moduls/Pakets nicht mehr extra nennen:\n",
    "\n",
    "```\n",
    "from collections import *\n",
    "c = OrderedDict()\n",
    "```\n",
    "\n",
    "Jedoch gibt es einen entscheidenden Nachteil. Welchen?"
   ]
  },
  {
   "cell_type": "markdown",
   "metadata": {
    "slideshow": {
     "slide_type": "fragment"
    }
   },
   "source": [
    "Wenn es im globalen Namensraum bereits eine Funktion oder eine Variable mit dem gleichen Namen gibt, kann es passieren, dass diese überschrieben wird."
   ]
  },
  {
   "cell_type": "markdown",
   "metadata": {},
   "source": [
    "## Nächste Sitzung\n",
    "\n",
    "In der nächsten Sitzung werden wir über Pandas sprechen, ein Python-Paket, welches zusätzliche Datenstrukturen bereitstellt. Wenn Sie Python und Jupyter Notebook über Anaconda installiert haben, dann sollte Pandas auch schon installiert sein. Um sicherzustellen führen Sie folgende Zeile aus:\n",
    "\n",
    "```\n",
    "import pandas\n",
    "```"
   ]
  },
  {
   "cell_type": "markdown",
   "metadata": {
    "slideshow": {
     "slide_type": "slide"
    }
   },
   "source": [
    "## Fortsetzung folgt..."
   ]
  }
 ],
 "metadata": {
  "celltoolbar": "Slideshow",
  "kernelspec": {
   "display_name": "Python 3",
   "language": "python",
   "name": "python3"
  },
  "language_info": {
   "codemirror_mode": {
    "name": "ipython",
    "version": 3
   },
   "file_extension": ".py",
   "mimetype": "text/x-python",
   "name": "python",
   "nbconvert_exporter": "python",
   "pygments_lexer": "ipython3",
   "version": "3.7.3"
  }
 },
 "nbformat": 4,
 "nbformat_minor": 2
}
